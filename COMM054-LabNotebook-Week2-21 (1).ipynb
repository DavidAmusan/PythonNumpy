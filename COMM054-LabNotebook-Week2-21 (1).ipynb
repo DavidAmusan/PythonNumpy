{
 "cells": [
  {
   "cell_type": "markdown",
   "metadata": {},
   "source": [
    "# Data Science Principles and Practices Lab Week 2\n",
    "\n",
    "Follow the instructions to complete each of these tasks. This set of exercises looks at Numpy and performing operations on numeric data. Do not worry if you do not complete them all in the timetabled lab session.\n",
    "\n",
    "This is not assessed but will help you gain practical experience for the module exam and coursework.\n",
    "\n",
    "For extra information about the functions provided by numpy, you can search the API documentation here:\n",
    "\n",
    "https://numpy.org/doc/stable/"
   ]
  },
  {
   "cell_type": "markdown",
   "metadata": {},
   "source": [
    "# Numpy\n",
    "\n",
    "Numpy is a Python module for working with many dimensional arrays, performing efficient vectorised operations on them, and linear algebra. It also provides random number generation facilities.\n",
    "\n",
    " - tensorflow functions accept numpy arrays as inputs as well as tensor objects.\n",
    " - pandas can convert data frames or series into numpy arrays.\n",
    " - scikit accepts data passed as numpy arrays.\n",
    "\n",
    "The main feature of numpy is that it provides efficient N-dimensional arrays and operations on them.\n",
    "\n",
    "Numpy is typically imported as *np* to reduce typing.\n",
    "\n",
    "```python\n",
    "import numpy as np\n",
    "```\n",
    "\n",
    "Do this below."
   ]
  },
  {
   "cell_type": "code",
   "execution_count": 1,
   "metadata": {},
   "outputs": [],
   "source": [
    "import numpy as np"
   ]
  },
  {
   "cell_type": "markdown",
   "metadata": {},
   "source": [
    "## Creating arrays\n",
    "\n",
    "numpy arrays are objects of the numpy.array class, which is used to create arrays of any number of dimensions.\n",
    "\n",
    "```python\n",
    "a = np.array([[1,2,3],[4,5,6]])\n",
    "```\n",
    "\n",
    "Arrays can be created from tuples or lists. A single list will construct a one-dimensional array, and a list of lists will create a two dimensional array."
   ]
  },
  {
   "cell_type": "markdown",
   "metadata": {},
   "source": [
    "### Task 1.1\n",
    "\n",
    "Create a two dimensional numpy array, with three rows and two columns, containing the numbers 1 to 6. The ordering of the numbers does not matter, but look at the output to see how the values are arranged.\n",
    "\n",
    "*You can assign your array to a variable, e.g. a = np.array(....). To print out your array, you can then write a as the last line of your Jupyter code cell. Jupyter will print out the value in the last line of the code cell. For example:*\n",
    "\n",
    "```python\n",
    "a = np.array([1,2,3])\n",
    "a\n",
    "```"
   ]
  },
  {
   "cell_type": "code",
   "execution_count": 6,
   "metadata": {},
   "outputs": [
    {
     "data": {
      "text/plain": [
       "array([[1, 2],\n",
       "       [3, 4],\n",
       "       [5, 6]])"
      ]
     },
     "execution_count": 6,
     "metadata": {},
     "output_type": "execute_result"
    }
   ],
   "source": [
    "a = np.arange(1,7).reshape(3,2)\n",
    "a"
   ]
  },
  {
   "cell_type": "markdown",
   "metadata": {},
   "source": [
    "Arrays can also be built using built-in constructors:\n",
    "\n",
    "```python\n",
    "b = np.ones((4,3)) # A 4 by 3 array of the value 1.0\n",
    "c = np.zeros((3,4)) # A 3 by 4 array of the value 0.0\n",
    "```"
   ]
  },
  {
   "cell_type": "markdown",
   "metadata": {},
   "source": [
    "### Task 1.2\n",
    "\n",
    "Try creating an array containing all ones, with 6 rows and 4 columns"
   ]
  },
  {
   "cell_type": "code",
   "execution_count": null,
   "metadata": {},
   "outputs": [],
   "source": []
  },
  {
   "cell_type": "markdown",
   "metadata": {},
   "source": [
    "## Working with Numpy arrays\n",
    "\n",
    "The shape attribute gives the size of the array in each dimension, and the total number of dimensions.\n",
    "\n",
    "```python\n",
    "a = np.array([[1,2,3],[4,5,6]])\n",
    "a.shape # (2,3)\n",
    "a.ndim # 2\n",
    "a.dtype # dtype('int64')\n",
    "```\n",
    "\n",
    "The dtype attribute tells us the data type of the values stored in the array. This can be specified when creating the array using an additional argument:\n",
    "\n",
    "```python\n",
    "a = np.array([[1,2,3],[4,5,6]],dtype=np.float64)\n",
    "b = np.ones((4,3),dtype=np.int64)\n",
    "```"
   ]
  },
  {
   "cell_type": "markdown",
   "metadata": {},
   "source": [
    "### Task 1.3\n",
    "\n",
    "Check the shape, number of dimensions (ndim) and data type of one of the arrays you created above."
   ]
  },
  {
   "cell_type": "code",
   "execution_count": null,
   "metadata": {},
   "outputs": [],
   "source": []
  },
  {
   "cell_type": "code",
   "execution_count": null,
   "metadata": {},
   "outputs": [],
   "source": []
  },
  {
   "cell_type": "code",
   "execution_count": null,
   "metadata": {},
   "outputs": [],
   "source": []
  },
  {
   "cell_type": "markdown",
   "metadata": {},
   "source": [
    "## Indexing Numpy arrays\n",
    "\n",
    "Numpy arrays are indexed in a similar way to Python arrays, with $0$ based indexing:\n",
    "\n",
    "```python\n",
    "a = np.array([1,2,3,4,5,6,7,8])\n",
    "a[2:6] # slice from index 2 to 5\n",
    "```\n",
    "\n",
    "*Remember that the slice will go from the first index provided to the index before the last one (e.g. from index 2 to 5 when the range specified is 2:6).*\n",
    "\n",
    "For multidimensional arrays, an index is provided in each dimension, or can be skipped with a single : to return all values in that dimension:\n",
    "\n",
    "```python\n",
    "a = np.arange(1,28).reshape((3,3,3))\n",
    "a[1,:,2] # array([12, 15, 18])\n",
    "```"
   ]
  },
  {
   "cell_type": "markdown",
   "metadata": {},
   "source": [
    "### Task 1.4\n",
    "\n",
    "An array b is provided below. Use indexing to return all values in the columns in the range 2 to 4 (inclusive). *You can use the columns at indices 2,3 and 4 - but remember that these will be the third, fourth and fifth columns in the array due to zero based indexing*. "
   ]
  },
  {
   "cell_type": "code",
   "execution_count": null,
   "metadata": {},
   "outputs": [],
   "source": [
    "b = np.arange(1,33).reshape((4,8))\n",
    "b"
   ]
  },
  {
   "cell_type": "code",
   "execution_count": null,
   "metadata": {},
   "outputs": [],
   "source": [
    "# put your answer here:\n"
   ]
  },
  {
   "cell_type": "markdown",
   "metadata": {},
   "source": [
    "## Numpy ranges\n",
    "\n",
    "As you can see in the previous task, to create ranges of values Numpy has an arange function that can be used to create an array filled with a range of values. It takes a starting value, end and step size.\n",
    "\n",
    "```python\n",
    "a = np.arange(2,10,2) # array([2, 4, 6, 8])\n",
    "```\n",
    "\n",
    "These can be reshaped to generate more complex N-dimensional arrays using the reshape method:\n",
    "\n",
    "```python\n",
    "a = np.arange(1,28).reshape(3,3,3)\n",
    "```"
   ]
  },
  {
   "cell_type": "markdown",
   "metadata": {},
   "source": [
    "# Broadcast operations\n",
    "\n",
    "## Elementwise operators\n",
    "\n",
    "The standard arithmetic operators like +,-,/ will act **elementwise** on arrays, and can be broadcast across a whole array.\n",
    "\n",
    "For example, two arrays can be multiplied together *element by element*:\n",
    "\n",
    "```python\n",
    "a = np.arange(1,10).reshape(3,3)\n",
    "b = np.arange(9,0,-1).reshape(3,3)\n",
    "c = a*b\n",
    "# c= array([[ 9, 16, 21],\n",
    "#           [24, 25, 24],\n",
    "#           [21, 16,  9]])\n",
    "```\n",
    "\n",
    "Notice that this is **not** matrix multiplication.\n",
    "\n",
    "\n",
    "\n",
    "Operations like logarithms and exponentials can also be mapped across numpy arrays elementwise, simply by applying them to the array:\n",
    "\n",
    "```python\n",
    "a = np.arange(1,10).reshape(3,3)\n",
    "np.power(a,3)\n",
    "# array([[  1,   8,  27],\n",
    "#        [ 64, 125, 216],\n",
    "#        [343, 512, 729]])\n",
    "```\n",
    "\n",
    "This can be used with many functions including np.log, np.exp, np.power, np.sin}, and np.cos."
   ]
  },
  {
   "cell_type": "markdown",
   "metadata": {},
   "source": [
    "### Task 1.5\n",
    "\n",
    "Try adding each of the values in arrays a and b provided below."
   ]
  },
  {
   "cell_type": "code",
   "execution_count": 9,
   "metadata": {},
   "outputs": [
    {
     "data": {
      "text/plain": [
       "array([[1, 2, 3],\n",
       "       [4, 5, 6],\n",
       "       [7, 8, 9]])"
      ]
     },
     "execution_count": 9,
     "metadata": {},
     "output_type": "execute_result"
    }
   ],
   "source": [
    "a = np.arange(1,10).reshape(3,3)\n",
    "a"
   ]
  },
  {
   "cell_type": "code",
   "execution_count": 8,
   "metadata": {},
   "outputs": [
    {
     "data": {
      "text/plain": [
       "array([[9, 8, 7],\n",
       "       [6, 5, 4],\n",
       "       [3, 2, 1]])"
      ]
     },
     "execution_count": 8,
     "metadata": {},
     "output_type": "execute_result"
    }
   ],
   "source": [
    "b = np.arange(9,0,-1).reshape(3,3)\n",
    "b"
   ]
  },
  {
   "cell_type": "code",
   "execution_count": 10,
   "metadata": {},
   "outputs": [
    {
     "data": {
      "text/plain": [
       "array([[10, 10, 10],\n",
       "       [10, 10, 10],\n",
       "       [10, 10, 10]])"
      ]
     },
     "execution_count": 10,
     "metadata": {},
     "output_type": "execute_result"
    }
   ],
   "source": [
    "c=a+b \n",
    "c"
   ]
  },
  {
   "cell_type": "markdown",
   "metadata": {},
   "source": [
    "We can also broadcast logical and comparison operations over numpy arrays. For example we could use\n",
    "\n",
    "```python\n",
    "a = np.arange(1,10).reshape(3,3)\n",
    "a<5\n",
    "# array([[ True,  True,  True],\n",
    "#        [ True, False, False],\n",
    "#        [False, False, False]])\n",
    "```\n"
   ]
  },
  {
   "cell_type": "markdown",
   "metadata": {},
   "source": [
    "The numpy function to sum the values in an array will count True values as 1, and False as 0. So we can count the number of values in *a* less than 5 using:\n",
    "\n",
    "```python\n",
    "a = np.arange(1,10).reshape(3,3)\n",
    "np.sum(a<5) # Returns 4\n",
    "```"
   ]
  },
  {
   "cell_type": "markdown",
   "metadata": {},
   "source": [
    "### Task 1.6\n",
    "\n",
    "See if you can count the number of values greater than zero in the array c below: "
   ]
  },
  {
   "cell_type": "code",
   "execution_count": 14,
   "metadata": {},
   "outputs": [
    {
     "data": {
      "text/plain": [
       "32"
      ]
     },
     "execution_count": 14,
     "metadata": {},
     "output_type": "execute_result"
    }
   ],
   "source": [
    "c = np.arange(96,-96,-3).reshape(8,8)\n",
    "np.count_nonzero(c>0)"
   ]
  },
  {
   "cell_type": "markdown",
   "metadata": {},
   "source": [
    "# Broadcasting in Pandas \n",
    "\n",
    "Just as in numpy, we can apply broadcasting operations in Pandas as well. This can be done simply by specifying the columns or rows to use, and the operation to perform (elementwise).\n",
    "\n",
    "```python\n",
    "bikes[\"properties.docksAvailable\"]/bikes[\"properties.totalDocks\"]\n",
    "```\n",
    "\n",
    "We can assign these values to a new column using:\n",
    "\n",
    "```python\n",
    "bikes[\"fractionOfDocks\"] = bikes[\"properties.docksAvailable\"]/bikes[\"properties.totalDocks\"]\n",
    "```\n",
    "\n",
    "Try using Pandas with the code below from last week to calculate the fraction of electric bikes available out of the total number of bikes in each bike dock."
   ]
  },
  {
   "cell_type": "code",
   "execution_count": null,
   "metadata": {},
   "outputs": [],
   "source": [
    "import requests\n",
    "import pandas as pd\n",
    "indego_bikes_url = (\"https://www.rideindego.com/stations/json/\")\n",
    "headers = {'User-Agent': \"Mozilla/5.0 (Macintosh; Intel Mac OS X 10.13; rv:63.0) Gecko/20100101 Firefox/63.0\"}\n",
    "indego_bikes_data = requests.get(indego_bikes_url,headers=headers)\n",
    "bikes = pd.io.json.json_normalize(indego_bikes_data.json()['features'])\n",
    "bikes.head()"
   ]
  },
  {
   "cell_type": "code",
   "execution_count": null,
   "metadata": {},
   "outputs": [],
   "source": [
    "bikes.columns"
   ]
  },
  {
   "cell_type": "code",
   "execution_count": null,
   "metadata": {},
   "outputs": [],
   "source": []
  },
  {
   "cell_type": "markdown",
   "metadata": {},
   "source": [
    "# Random numbers in Numpy\n",
    "\n",
    "## Initialising the random number generator\n",
    "\n",
    "We first need to initialise the random number generator, by creating an object that we can use to generate random numbers. *Note this is new in a recent update to Numpy*.\n",
    "\n",
    "```python\n",
    "rng = np.random.default_rng()\n",
    "```\n",
    "\n",
    "Do this below.\n",
    "\n",
    "**If you are using an older version of Anaconda (as on the University Windows remote desktop, use:**\n",
    "\n",
    "```python\n",
    "rng = np.random\n",
    "```"
   ]
  },
  {
   "cell_type": "code",
   "execution_count": 15,
   "metadata": {},
   "outputs": [],
   "source": [
    "rng = np.random.default_rng()\n"
   ]
  },
  {
   "cell_type": "markdown",
   "metadata": {},
   "source": [
    "## Generating random values\n",
    "\n",
    "Numpy can generate random numbers from a variety of different distributions, but it can also make random selections or choices from a list of values.\n",
    "\n",
    "```python\n",
    "rng.choice([\"Heads\",\"Tails\"])\n",
    "```\n",
    "\n",
    "Try this below to generate a single random dice roll for a six sided dice. Try running the cell multiple times and see how the output changes."
   ]
  },
  {
   "cell_type": "code",
   "execution_count": 28,
   "metadata": {},
   "outputs": [
    {
     "data": {
      "text/plain": [
       "1"
      ]
     },
     "execution_count": 28,
     "metadata": {},
     "output_type": "execute_result"
    }
   ],
   "source": [
    "a= np.arange(1,7) \n",
    "a\n",
    "rng.choice(a)\n"
   ]
  },
  {
   "cell_type": "markdown",
   "metadata": {},
   "source": [
    "## Looping and if statements in Python\n",
    "\n",
    "We can write simple Python loops to perform an operation multiple times using the *for* syntax. To specify the number of times to execute the code in the loop, we can provide a Python *range* object, specifying the number of loops we would like to make.\n",
    "\n",
    "```python\n",
    "for i in range(10): # Loop 10 times\n",
    "    print(i)\n",
    "```\n",
    "\n",
    "Unlike in C or Java where { } are used, **in Python the code to loop over is specificed by indenting the code we would like to be contained within the for loop**.\n",
    "\n",
    "The Python code *range(10)* will produce a range of values from 0 to 9.\n",
    "\n",
    "We can also use *if* statements to perform operations when certain conditions are met:\n",
    "\n",
    "```python\n",
    "if a==\"Heads\":\n",
    "    print(a) # Only run if variable a contains the value \"Heads\"\n",
    "else:\n",
    "    print(\"Not heads\") # Only run if variable a does not contain the value \"Heads\"\n",
    "```\n",
    "\n",
    "**Just as with for loops, we specify the code we would like to execute if the condition is met using indentation.**"
   ]
  },
  {
   "cell_type": "markdown",
   "metadata": {},
   "source": [
    "### Task 2.1\n",
    "\n",
    "Write Python code using a *for* loop and *if* statement to generate random choices between the two values \"Heads\" and \"Tails\", and to count how many times each occurs. Start by doing this for 10 loop iterations, and look at the count of Heads occurring."
   ]
  },
  {
   "cell_type": "code",
   "execution_count": 68,
   "metadata": {},
   "outputs": [
    {
     "name": "stdout",
     "output_type": "stream",
     "text": [
      "4945\n"
     ]
    }
   ],
   "source": [
    "headcount= 0\n",
    "\n",
    "for i in range(10000):\n",
    "    a = rng.choice([\"Heads\", \"Tails\"])\n",
    "    if a== \"Heads\":\n",
    "     headcount += 1\n",
    "    \n",
    "\n",
    "print(headcount)\n"
   ]
  },
  {
   "cell_type": "markdown",
   "metadata": {},
   "source": [
    "Now run your code again but using 10000 iterations. You should notice that the final count of heads is closer to what we would expect in theory - roughly half of the 10000 simulated coin tosses."
   ]
  },
  {
   "cell_type": "code",
   "execution_count": null,
   "metadata": {},
   "outputs": [],
   "source": []
  },
  {
   "cell_type": "markdown",
   "metadata": {},
   "source": [
    "### Task 2.2\n",
    "\n",
    "Now write a Python for loop to roll a dice 4 times, and count the number of times the value 6 occurs."
   ]
  },
  {
   "cell_type": "code",
   "execution_count": 69,
   "metadata": {},
   "outputs": [
    {
     "name": "stdout",
     "output_type": "stream",
     "text": [
      "2\n"
     ]
    }
   ],
   "source": [
    "sixes=0\n",
    "for i in range(4):\n",
    "    diceroll = rng.choice([1,2,3,4,5,6])\n",
    "    if diceroll == 6:\n",
    "        sixes+=1\n",
    "\n",
    "print(sixes)\n",
    "        "
   ]
  },
  {
   "cell_type": "markdown",
   "metadata": {},
   "source": [
    "We can also generate a numpy array of random values rather than a single output using rng.choice:\n",
    "\n",
    "```python\n",
    "dice_rolls = rng.choice([1,2,3,4,5,6],size=4) # Generate 4 random choices from [1,2,3,4,5,6]\n",
    "```"
   ]
  },
  {
   "cell_type": "markdown",
   "metadata": {},
   "source": [
    "### Task 2.3\n",
    "\n",
    "Try to use rng.choice to generate 1000000 coin tosses, and use numpy broadcasting to count the number of heads that occur. *Remember that you can use np.sum on an array of True or False values to count the number of times True occurs, and you can broadcast comparisons such as == over numpy arrays*"
   ]
  },
  {
   "cell_type": "code",
   "execution_count": 71,
   "metadata": {},
   "outputs": [
    {
     "data": {
      "text/plain": [
       "array(['Heads', 'Heads', 'Tails', ..., 'Heads', 'Tails', 'Heads'],\n",
       "      dtype='<U5')"
      ]
     },
     "execution_count": 71,
     "metadata": {},
     "output_type": "execute_result"
    }
   ],
   "source": [
    "coin_tosses = rng.choice([\"Heads\",\"Tails\"],size=1000000)\n",
    "coin_tosses\n"
   ]
  },
  {
   "cell_type": "markdown",
   "metadata": {},
   "source": [
    "Go back to your coin tossing code using a for loop above, and try running this for 1000000 coin tosses. Is using broadcasting in numpy faster or slower?"
   ]
  },
  {
   "cell_type": "code",
   "execution_count": 72,
   "metadata": {},
   "outputs": [
    {
     "data": {
      "text/plain": [
       "array([[1, 3, 2, 2],\n",
       "       [5, 3, 5, 4],\n",
       "       [3, 1, 2, 4],\n",
       "       ...,\n",
       "       [6, 6, 5, 1],\n",
       "       [4, 3, 1, 3],\n",
       "       [4, 1, 2, 3]])"
      ]
     },
     "execution_count": 72,
     "metadata": {},
     "output_type": "execute_result"
    }
   ],
   "source": [
    "dice_rolls = rng.choice([1,2,3,4,5,6],size=(1000,4))\n",
    "dice_rolls"
   ]
  },
  {
   "cell_type": "markdown",
   "metadata": {},
   "source": [
    "### Task 2.4*\n",
    "\n",
    "*This task is extra challenging - attempt it if you have time.*\n",
    "\n",
    "Try writing Python code to roll two dice 24 times, and count the number of times two sixes occurs. You can do this with a for loop first, but you can also try a numpy broadcast.\n",
    "\n",
    "*In numpy you can use the broadcast operation & on two arrays of True/False values to return the logical AND operation on the two arrays elementwise*\n",
    "\n"
   ]
  },
  {
   "cell_type": "code",
   "execution_count": null,
   "metadata": {},
   "outputs": [],
   "source": []
  },
  {
   "cell_type": "markdown",
   "metadata": {},
   "source": [
    "### Task 2.5*\n",
    "\n",
    "*This task is extra challenging - attempt it if you have time.*\n",
    "\n",
    "You can use:\n",
    "\n",
    "```python\n",
    "dice_rolls = rng.choice([1,2,3,4,5,6],size=(1000,4))\n",
    "```\n",
    "\n",
    "to generate an array of 1000 rows of 4 dice rolls. Each element of the array is simply a random choice from the values 1 to 6, but this can be thought of as representing the results 1000 experiments where each time we roll a die 4 times.\n",
    "\n",
    "With numpy it is possible to sum the values in an array along the rows (here corresponding to each experiment where we perform 4 dice rolls) to return an array of the sum of values on each row:\n",
    "\n",
    "```python\n",
    "np.sum(a,axis=1) # Sum an array along rows, returning an array of the sum of each row\n",
    "```\n",
    "\n",
    "Can you use this in combination with broadcasting == and > over numpy arrays to count the number of times *at least* one 6 occurs in 1000 experiments of rolling a dice 4 times?\n",
    "\n",
    "*Remember that you can use np.sum on an array of True or False values to count the number of times True occurs.*"
   ]
  },
  {
   "cell_type": "code",
   "execution_count": null,
   "metadata": {},
   "outputs": [],
   "source": []
  }
 ],
 "metadata": {
  "kernelspec": {
   "display_name": "Python 3 (ipykernel)",
   "language": "python",
   "name": "python3"
  },
  "language_info": {
   "codemirror_mode": {
    "name": "ipython",
    "version": 3
   },
   "file_extension": ".py",
   "mimetype": "text/x-python",
   "name": "python",
   "nbconvert_exporter": "python",
   "pygments_lexer": "ipython3",
   "version": "3.9.12"
  }
 },
 "nbformat": 4,
 "nbformat_minor": 4
}
